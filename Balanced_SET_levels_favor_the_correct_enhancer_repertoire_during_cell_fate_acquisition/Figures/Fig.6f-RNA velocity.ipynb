{
 "cells": [
  {
   "cell_type": "code",
   "execution_count": null,
   "id": "e0c325b5",
   "metadata": {},
   "outputs": [],
   "source": [
    "import loompy\n",
    "import scvelo as scv\n",
    "import pandas"
   ]
  },
  {
   "cell_type": "code",
   "execution_count": null,
   "id": "c18e6a48",
   "metadata": {},
   "outputs": [],
   "source": [
    "files = ['/home/edoardo/prova_v/loom/embryo_mut.loom', '/home/edoardo/prova_v/loom/P2_Mut_hSETBP1.loom']\n",
    "filename = \"/home/edoardo/prova_v/loom/all_Mut.loom\"\n",
    "loompy.combine(files, filename, key=\"Accession\")"
   ]
  },
  {
   "cell_type": "code",
   "execution_count": null,
   "id": "31400568",
   "metadata": {},
   "outputs": [],
   "source": [
    "filename = '/home/edoardo/prova_v/loom/all_ctrl.loom'\n",
    "adata = scv.read(filename, cache=True)\n",
    "adata.var_names_make_unique()"
   ]
  },
  {
   "cell_type": "code",
   "execution_count": null,
   "id": "15699a6e",
   "metadata": {},
   "outputs": [],
   "source": [
    "adata.obs_names"
   ]
  },
  {
   "cell_type": "code",
   "execution_count": null,
   "id": "9c50ffcf",
   "metadata": {},
   "outputs": [],
   "source": [
    "df = pandas.read_csv('/home/edoardo/prova_v/meta_all_ctrl.csv')\n",
    "df"
   ]
  },
  {
   "cell_type": "code",
   "execution_count": null,
   "id": "6f024a6a",
   "metadata": {},
   "outputs": [],
   "source": [
    "df['Label_cluster'].value_counts()"
   ]
  },
  {
   "cell_type": "code",
   "execution_count": null,
   "id": "383019b4",
   "metadata": {},
   "outputs": [],
   "source": [
    "adata.obs['seurat'] = 'filtered'\n",
    "adata.obs['cell_name'] = 'tobeassigned'\n",
    "for i in range(len(adata.obs.index)):\n",
    "    adata.obs['cell_name'][i] = adata.obs.index[i].replace('P2_Ctrl_hSETBP1:','P2_ctrl_').replace('x','').replace('embryo_ctrl:','embryo_ctrl_')\n",
    "adata.obs"
   ]
  },
  {
   "cell_type": "code",
   "execution_count": null,
   "id": "5973f8c9",
   "metadata": {},
   "outputs": [],
   "source": [
    "# need to speed up this one\n",
    "for j in range(len(adata.obs['cell_name'])):\n",
    "    for i in range(len(df['Unnamed: 0'])):\n",
    "        if df['Unnamed: 0'][i] == adata.obs['cell_name'][j]:\n",
    "            adata.obs['seurat'][j] = df['Label_cluster'][i]\n",
    "            break\n",
    "adata.obs"
   ]
  },
  {
   "cell_type": "code",
   "execution_count": null,
   "id": "67ce88d9",
   "metadata": {},
   "outputs": [],
   "source": [
    "adata.obs['seurat'].value_counts()"
   ]
  },
  {
   "cell_type": "code",
   "execution_count": null,
   "id": "ec0b47d2",
   "metadata": {},
   "outputs": [],
   "source": [
    "adata_filt = adata[adata.obs['seurat'] != 'filtered',:]"
   ]
  },
  {
   "cell_type": "code",
   "execution_count": null,
   "id": "f6f487e9",
   "metadata": {},
   "outputs": [],
   "source": [
    "adata_filt.obs"
   ]
  },
  {
   "cell_type": "code",
   "execution_count": null,
   "id": "f7b11f66",
   "metadata": {},
   "outputs": [],
   "source": [
    "adata_filt_seurat.obs['clusters'] = adata_filt_seurat.obs['seurat']\n",
    "scv.pl.proportions(adata_filt_seurat)"
   ]
  },
  {
   "cell_type": "code",
   "execution_count": null,
   "id": "9cab5183",
   "metadata": {},
   "outputs": [],
   "source": [
    "scv.pp.filter_and_normalize(adata_filt, n_top_genes=4000, enforce=True)\n",
    "scv.pp.moments(adata_filt, n_pcs=30, n_neighbors=30)"
   ]
  },
  {
   "cell_type": "code",
   "execution_count": null,
   "id": "ae713ec1",
   "metadata": {},
   "outputs": [],
   "source": [
    "adata_filt.obs"
   ]
  },
  {
   "cell_type": "code",
   "execution_count": null,
   "id": "e4a478e0",
   "metadata": {},
   "outputs": [],
   "source": [
    "scv.tl.velocity(adata_filt)"
   ]
  },
  {
   "cell_type": "code",
   "execution_count": null,
   "id": "83a3f75d",
   "metadata": {},
   "outputs": [],
   "source": [
    "scv.tl.velocity_graph(adata_filt, n_jobs=20)"
   ]
  },
  {
   "cell_type": "code",
   "execution_count": null,
   "id": "df3c95e1",
   "metadata": {},
   "outputs": [],
   "source": [
    "scv.tl.umap(adata_filt)"
   ]
  },
  {
   "cell_type": "code",
   "execution_count": null,
   "id": "f736bf3f",
   "metadata": {},
   "outputs": [],
   "source": [
    "palette = ['#00BFC4','#7CAE00','grey','#00BE67','#C77CFF','#FF61CC','black','#00A9FF','#CD9600','pink','#F8766D']\n",
    "scv.pl.umap(adata_filt, color=['seurat'], legend_loc='right_margin', palette=palette)"
   ]
  },
  {
   "cell_type": "code",
   "execution_count": null,
   "id": "f824152f",
   "metadata": {},
   "outputs": [],
   "source": [
    "scv.pl.velocity_embedding_stream(adata_filt, basis='umap', color=['seurat'], palette = palette, dpi=100, legend_loc='right_margin')"
   ]
  },
  {
   "cell_type": "code",
   "execution_count": null,
   "id": "5996b64c",
   "metadata": {},
   "outputs": [],
   "source": [
    "scv.tl.velocity_confidence(adata_filt)\n",
    "scv.pl.scatter(adata_filt, c='velocity_length', cmap='coolwarm', perc=[5, 95])"
   ]
  },
  {
   "cell_type": "code",
   "execution_count": null,
   "id": "3f428dc5",
   "metadata": {},
   "outputs": [],
   "source": [
    "adata_filt.obsm['X_umap']"
   ]
  },
  {
   "cell_type": "code",
   "execution_count": null,
   "id": "082e6e96",
   "metadata": {},
   "outputs": [],
   "source": [
    "adata_filt_seurat = adata_filt.copy()"
   ]
  },
  {
   "cell_type": "code",
   "execution_count": null,
   "id": "5d85211e",
   "metadata": {},
   "outputs": [],
   "source": [
    "ucoord = scv.load('UMAP_all_ctrl.csv')\n",
    "#ucoord.index = [ x.rstrip('-1_2') for x in ucoord.index ]\n",
    "ucoord = ucoord.reindex(index=adata_filt_seurat.obs['cell_name'].values)\n",
    "ucoord = ucoord.to_numpy()\n",
    "#for i in ucoord.index:\n",
    "#    ucoord['Unnamed: 0'][i] = ucoord['Unnamed: 0'][i].rstrip('-1_2')\n",
    "#ucoord.index = ucoord['Unnamed: 0'].values\n",
    "#ucoord = ucoord.reindex(index=adata_filt_seurat.obs['cell_name'].index)\n",
    "#ucoord = ucoord.drop('Unnamed: 0', axis='columns')"
   ]
  },
  {
   "cell_type": "code",
   "execution_count": null,
   "id": "3c9a3962",
   "metadata": {},
   "outputs": [],
   "source": [
    "adata_filt_seurat.obsm['X_umap'] = ucoord\n",
    "adata_filt_seurat.obsm['X_umap']"
   ]
  },
  {
   "cell_type": "code",
   "execution_count": null,
   "id": "35847bb7",
   "metadata": {},
   "outputs": [],
   "source": [
    "palette = [\"#BE0032\", \"#875692\", \"#848482\", \"#A1CAF1\", \"#E68FAC\", \"brown\", \"#222222\", \"#F3C300\", \"#F38400\", \"#008856\", \"#C2B280\"\n",
    "]\n",
    "scv.pl.umap(adata_filt_seurat, color=['seurat'], palette = palette, legend_loc='right_margin')"
   ]
  },
  {
   "cell_type": "code",
   "execution_count": null,
   "id": "0ccb2014",
   "metadata": {},
   "outputs": [],
   "source": [
    "palette =  [\"#BE0032\", \"#875692\", \"#848482\", \"#A1CAF1\", \"#E68FAC\", \"brown\", \"#222222\", \"#F3C300\", \"#F38400\", \"#008856\", \"#C2B280\"\n",
    "]\n",
    "scv.tl.velocity(adata_filt_seurat, n_jobs=20)\n",
    "scv.tl.velocity_graph(adata_filt_seurat)\n",
    "scv.pl.velocity_embedding_stream(adata_filt_seurat, basis='umap', color=['seurat'], palette = palette, \n",
    "                                 legend_loc='right_margin', save='all_ctrl_velo.svg')\n",
    "#save='all_ctrl_velo_5.svg'"
   ]
  },
  {
   "cell_type": "code",
   "execution_count": null,
   "id": "383672b4",
   "metadata": {},
   "outputs": [],
   "source": [
    "g2m_g = pandas.read_csv('/home/edoardo/prova_v/g2m.genes.csv')['g2m.genes']\n",
    "s_g = pandas.read_csv('/home/edoardo/prova_v/s.genes.csv')['s.gene']\n",
    "scv.tl.score_genes_cell_cycle(adata_filt_seurat, g2m_genes= g2m_g, s_genes= s_g)\n",
    "scv.pl.scatter(adata_filt_seurat, color_gradients=['S_score', 'G2M_score'], smooth=True, perc=[5, 95])"
   ]
  },
  {
   "cell_type": "code",
   "execution_count": null,
   "id": "34371979",
   "metadata": {},
   "outputs": [],
   "source": [
    "scv.tl.rank_velocity_genes(adata_filt_seurat, groupby='seurat', min_corr=.3)\n",
    "df = scv.DataFrame(adata_filt_seurat.uns['rank_velocity_genes']['names'])\n",
    "df.head()"
   ]
  },
  {
   "cell_type": "code",
   "execution_count": null,
   "id": "df780bf8",
   "metadata": {},
   "outputs": [],
   "source": [
    "df['AP_RGC'][1:5]\n"
   ]
  },
  {
   "cell_type": "code",
   "execution_count": null,
   "id": "1eb575f6",
   "metadata": {},
   "outputs": [],
   "source": [
    "palette = ['#00BFC4','#7CAE00','grey','#00BE67','#C77CFF','#FF61CC','brown','#00A9FF','#CD9600','pink','#F8766D']\n",
    "scv.pl.velocity(adata_filt_seurat, ['Nfib'], ncols=2, color=['seurat'], \n",
    "                palette = palette)"
   ]
  },
  {
   "cell_type": "code",
   "execution_count": null,
   "id": "a3ac7622",
   "metadata": {},
   "outputs": [],
   "source": [
    "scv.tl.recover_dynamics(adata_filt_seurat, n_jobs=20)"
   ]
  },
  {
   "cell_type": "code",
   "execution_count": null,
   "id": "ac4bb368",
   "metadata": {},
   "outputs": [],
   "source": [
    "scv.tl.velocity_graph(adata_filt_seurat, n_jobs=20)"
   ]
  },
  {
   "cell_type": "code",
   "execution_count": null,
   "id": "17ef8fb4",
   "metadata": {},
   "outputs": [],
   "source": [
    "scv.tl.latent_time(adata_filt_seurat)\n",
    "scv.pl.scatter(adata_filt_seurat, color='latent_time', color_map='gnuplot', size=80)"
   ]
  },
  {
   "cell_type": "code",
   "execution_count": null,
   "id": "eae54b2d",
   "metadata": {},
   "outputs": [],
   "source": [
    "top_genes = adata_filt_seurat.var['fit_likelihood'].sort_values(ascending=False).index[:300]\n",
    "scv.pl.heatmap(adata_filt_seurat, var_names=top_genes, \n",
    "               sortby='latent_time', col_color='seurat', \n",
    "               n_convolve=100, palette=palette)"
   ]
  },
  {
   "cell_type": "code",
   "execution_count": null,
   "id": "49aaefe9",
   "metadata": {},
   "outputs": [],
   "source": [
    "top_genes = adata_filt_seurat.var['fit_likelihood'].sort_values(ascending=False).index\n",
    "scv.pl.scatter(adata_filt_seurat, basis=top_genes[:15], \n",
    "               ncols=5, frameon=False, color=['seurat'],\n",
    "              palette=palette)"
   ]
  },
  {
   "cell_type": "code",
   "execution_count": null,
   "id": "b4ccc5c3",
   "metadata": {},
   "outputs": [],
   "source": [
    "var_names = ['Sox6']\n",
    "scv.pl.scatter(adata_filt_seurat,var_names, frameon=False, color=['seurat'], palette=palette)\n",
    "scv.pl.scatter(adata_filt_seurat, x='latent_time', y=var_names, projection='2d', \n",
    "               frameon=False, color=['seurat'], palette=palette)"
   ]
  },
  {
   "cell_type": "code",
   "execution_count": null,
   "id": "1f4d6914",
   "metadata": {},
   "outputs": [],
   "source": [
    "scv.tl.rank_dynamical_genes(adata_filt_seurat, groupby='seurat')\n",
    "df = scv.get_df(adata_filt_seurat, 'rank_dynamical_genes/names')\n",
    "df.head(5)"
   ]
  },
  {
   "cell_type": "code",
   "execution_count": null,
   "id": "f50f2434",
   "metadata": {},
   "outputs": [],
   "source": [
    "df.to_csv(\"/home/edoardo/prova_v/loom/Mut_genes_in_velo.csv\",index=False)"
   ]
  },
  {
   "cell_type": "code",
   "execution_count": null,
   "id": "04018590",
   "metadata": {},
   "outputs": [],
   "source": [
    "scv.tl.velocity_confidence(adata_filt_seurat)\n",
    "keys = 'velocity_length', 'velocity_confidence'\n",
    "scv.pl.scatter(adata_filt_seurat, c=keys, cmap='coolwarm', perc=[5, 95])\n",
    "#save='MUT_velocity.svg'"
   ]
  },
  {
   "cell_type": "code",
   "execution_count": null,
   "id": "14f39b85",
   "metadata": {},
   "outputs": [],
   "source": [
    "df = adata_filt_seurat.obs.groupby('seurat')[keys].mean().T\n",
    "df.style.background_gradient(cmap='coolwarm', axis=1)\n",
    "#df.to_csv(\"/home/edoardo/prova_v/loom/MUT_velo_in_clusters.csv\",index=False)"
   ]
  },
  {
   "cell_type": "code",
   "execution_count": null,
   "id": "68c058d3",
   "metadata": {},
   "outputs": [],
   "source": [
    "scv.pl.velocity_graph(adata_filt_seurat, threshold=.1)"
   ]
  },
  {
   "cell_type": "code",
   "execution_count": null,
   "id": "9202d4f3",
   "metadata": {},
   "outputs": [],
   "source": [
    "x, y = scv.utils.get_cell_transitions(adata_filt_seurat, basis='umap', starting_cell=70)\n",
    "ax = scv.pl.velocity_graph(adata_filt_seurat, c='lightgrey', edge_width=.05, show=False)\n",
    "ax = scv.pl.scatter(adata_filt_seurat, x=x, y=y, s=120, c='ascending', cmap='gnuplot', ax=ax)"
   ]
  },
  {
   "cell_type": "code",
   "execution_count": null,
   "id": "646dc07f",
   "metadata": {},
   "outputs": [],
   "source": [
    "scv.tl.velocity_pseudotime(adata_filt_seurat)\n",
    "scv.pl.scatter(adata_filt_seurat, color='velocity_pseudotime', cmap='gnuplot')\n",
    "#save='all_mut_velo_corrected.svg'"
   ]
  },
  {
   "cell_type": "code",
   "execution_count": null,
   "id": "2a034a18",
   "metadata": {},
   "outputs": [],
   "source": [
    "# PAGA requires to install igraph, if not done yet.\n",
    "#!pip install python-igraph --upgrade --quiet"
   ]
  },
  {
   "cell_type": "code",
   "execution_count": null,
   "id": "36388555",
   "metadata": {},
   "outputs": [],
   "source": [
    "# this is needed due to a current bug - bugfix is coming soon.\n",
    "adata_filt_seurat.uns['neighbors']['distances'] = adata_filt_seurat.obsp['distances']\n",
    "adata_filt_seurat.uns['neighbors']['connectivities'] = adata_filt_seurat.obsp['connectivities']\n",
    "\n",
    "scv.tl.paga(adata_filt_seurat, groups='seurat')\n",
    "df = scv.get_df(adata_filt_seurat, 'paga/transitions_confidence', precision=2).T\n",
    "df.style.background_gradient(cmap='Blues').format('{:.2g}')"
   ]
  },
  {
   "cell_type": "code",
   "execution_count": null,
   "id": "3b8e6ad2",
   "metadata": {},
   "outputs": [],
   "source": [
    "df.to_csv(\"/home/edoardo/prova_v/loom/PAGA_CTRL.csv\",index=False)"
   ]
  },
  {
   "cell_type": "code",
   "execution_count": null,
   "id": "c28e3313",
   "metadata": {},
   "outputs": [],
   "source": [
    "scv.pl.paga(adata_filt_seurat, basis='umap', size=50, alpha=.1,\n",
    "            min_edge_width=2, node_size_scale=1, threshold=.25)\n",
    "#save = '/home/edoardo/prova_v/figures/PAGA_mut_filt.svg'"
   ]
  }
 ],
 "metadata": {
  "kernelspec": {
   "display_name": "Python 3",
   "language": "python",
   "name": "python3"
  },
  "language_info": {
   "codemirror_mode": {
    "name": "ipython",
    "version": 3
   },
   "file_extension": ".py",
   "mimetype": "text/x-python",
   "name": "python",
   "nbconvert_exporter": "python",
   "pygments_lexer": "ipython3",
   "version": "3.6.13"
  }
 },
 "nbformat": 4,
 "nbformat_minor": 5
}
